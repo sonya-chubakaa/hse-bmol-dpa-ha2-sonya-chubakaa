{
 "cells": [
  {
   "cell_type": "markdown",
   "metadata": {},
   "source": [
    "# <center> Home Assignment 2</center>"
   ]
  },
  {
   "cell_type": "markdown",
   "metadata": {},
   "source": [
    "**Task 1.** <br>\n",
    "1.1 Create a dictionary with the countries as the keys and information on the population (in millions) as the values. The order is preserved (the first value in ```population_mln``` is for the first country in the list ```countries```, the second value - for the second country, etc.). <br>\n",
    "1.2 Add the new values in this dictionary: Germany - 83, France - 67, China - 140.81. <br>\n",
    "1.3 Oops! We made a mistake for China. It's 1408.1 million. Replace the existing value with the correct one."
   ]
  },
  {
   "cell_type": "code",
   "execution_count": 10,
   "metadata": {},
   "outputs": [
    {
     "name": "stdout",
     "output_type": "stream",
     "text": [
      "{'Italy': 60.3, 'Russia': 144.4, 'Austria': 8.6, 'Austrelia': 25.4, 'Cyprus': 0.86, 'USA': 328, 'Burkina Faso': 20.3, 'Spain': 47, 'Greece': 10.7, 'Germany': 83, 'France': 67, 'China': 140.81}\n",
      "With the correction: {'Italy': 60.3, 'Russia': 144.4, 'Austria': 8.6, 'Austrelia': 25.4, 'Cyprus': 0.86, 'USA': 328, 'Burkina Faso': 20.3, 'Spain': 47, 'Greece': 10.7, 'Germany': 83, 'France': 67, 'China': 1408.1}\n"
     ]
    }
   ],
   "source": [
    "countries = ['Italy', 'Russia', 'Austria', 'Australia', 'Cyprus', \n",
    "             'USA', 'Burkina Faso', 'Spain', 'Greece']\n",
    "\n",
    "population_mln = [60.3, 144.4, 8.6, 25.4, 0.86, 328, 20.3, 47, 10.7]\n",
    "\n",
    "country={\n",
    "    \"Italy\": 60.3,\n",
    "    \"Russia\": 144.4,\n",
    "    \"Austria\": 8.6, \n",
    "    \"Austrelia\": 25.4,\n",
    "    \"Cyprus\": 0.86,\n",
    "    \"USA\": 328,\n",
    "    \"Burkina Faso\": 20.3,\n",
    "    \"Spain\": 47,\n",
    "    \"Greece\": 10.7,\n",
    "    \"Germany\": 83,\n",
    "    \"France\": 67,\n",
    "    \"China\": 140.81,\n",
    "    \n",
    "}\n",
    "\n",
    "print(country)\n",
    "country [\"China\"]=1408.1\n",
    "print(\"With the correction:\", country)\n"
   ]
  },
  {
   "cell_type": "markdown",
   "metadata": {},
   "source": [
    "**Task 2.** Write code to return the second maximum value in the list. This means that it is less than the maximum value, but greater than others."
   ]
  },
  {
   "cell_type": "code",
   "execution_count": 11,
   "metadata": {},
   "outputs": [
    {
     "name": "stdout",
     "output_type": "stream",
     "text": [
      "The second biggest value 120\n"
     ]
    }
   ],
   "source": [
    "array = [59, 7, 9, 87, 1, 0, 2, 20, 62, 120, 121, 98]\n",
    "\n",
    "array.sort()\n",
    "print(\"The second biggest value\", array[-2])\n",
    "\n",
    "                                    "
   ]
  },
  {
   "cell_type": "markdown",
   "metadata": {},
   "source": [
    "**Task 3**\n",
    "\n",
    "Demonstrate at least 2 ways to check if a given string is a palindrome. Your code should return True if this string is a palindrome and False otherwise. \n",
    "\n",
    "A palindrome is a word, number, phrase, string, or other sequence of characters which reads the same backward as forward. Examples: 'madam', 'kayak', 'aaabbbbaaa'.   "
   ]
  },
  {
   "cell_type": "code",
   "execution_count": 12,
   "metadata": {},
   "outputs": [
    {
     "name": "stdout",
     "output_type": "stream",
     "text": [
      "True\n"
     ]
    }
   ],
   "source": [
    "candidate = 'aAaacbbcaaAa'\n",
    "\n",
    "tmp = candidate[::-1]\n",
    "if tmp == candidate:\n",
    "    print(True)\n",
    "else:\n",
    "    print(False)\n",
    "    "
   ]
  },
  {
   "cell_type": "markdown",
   "metadata": {},
   "source": [
    "**Task 4.** \n",
    "\n",
    "1.1 You have downloaded the introductory excerpt from the book Political Order and Political Decay by Dr Francis Fukuyama, but the text was downloaded in parts and with special characters. On every line where these characters appear, remove them (namely: <page1>, <page2>, <page3>, # h1, # h2, # h3).\n",
    "\n",
    "1.2 Combine all parts of the text into one, so that the output is one text in string format (without extra square brackets left over from the list as a data structure. For instance, the beginning should be \"PART ONE. The State. WHAT IS POLITICAL ...\" instead of \"[PART ONE. The State.] [WHAT IS POLITICAL ...\"). The text must be connected in the correct sequence: chapter_title, subtitle, paragpraph_1, paragpraph_2, paragpraph_3. Print your final text as the answer for this task."
   ]
  },
  {
   "cell_type": "code",
   "execution_count": null,
   "metadata": {},
   "outputs": [],
   "source": [
    "paragraph_3 = [\"The rule of law has many possible definitions, including simple law and order, property rights\"\n",
    "        \"and contract enforcement, or the modern Western understanding of human rights, which includes\",\n",
    "        \"equal rights for women and racial and ethnic minorities.1 <page3> The definition of the rule of law\",\n",
    "        \"I am using in this book is not tied to a specific substantive understanding of law. Rather, I\",\n",
    "        \"define it as a set of rules of behavior, reflecting a broad consensus within the society,\",\n",
    "        \" that is binding on even the most powerful political actors in the society, whether kings,\",\n",
    "        \" presidents, or prime ministers. \"]\n",
    "\n",
    "chapter_title = [\"PART\", \" ONE. #h1\", \"The \", \"State.#h2 \"]\n",
    "\n",
    "paragraph_2 = [\"In the first volume of this book, I argued that there were three basic \",\n",
    "        \"categories of institutions that constituted a political order: the state, \",\n",
    "        \"rule of law, and mechanisms of accountability. The state is \",\n",
    "        \"a hierarchical, centralized organization that holds a monopoly on legitimate\",\n",
    "        \"force over a defined territory. <page2> In addition to characteristics like complexity \",\n",
    "        \"and adaptability, states can be more or less impersonal: early states were \",\n",
    "        \"indistinguishable from the ruler’s household and were described as “patrimonial” because\",\n",
    "        \"they favored and worked through the ruler’s family and friends. Modern, more highly developed\",\n",
    "        \"states, by contrast, make a distinction between the private interest of the rulers and the public\",\n",
    "        \"interest of the whole community. They strive to treat citizens on a more impersonal basis,\",\n",
    "        \" applying laws, recruiting officials, and undertaking policies without favoritism. \"]\n",
    "\n",
    "subtitle = [\"#h3 WHAT IS POLITICAL DEVELOPMENT?\"]\n",
    "\n",
    "paragraph_1 = [\"Political development and its three components: the state, rule of law,\",\n",
    "        \" and accountability; why all societies are subject to political decay;\",\n",
    "        \" the plan for the book; why <page1> it is good to have a balanced political system.\",\n",
    "        \"Political development is change over time in political institutions.\",\n",
    "        \"This is different from shifts in politics or policies: prime ministers,\",\n",
    "        \" presidents, and legislators may come and go, laws may be modified, \",\n",
    "        \"but it is the underlying rules by which societies organize themselves\",\n",
    "        \" that define a political order. \"]"
   ]
  },
  {
   "cell_type": "code",
   "execution_count": null,
   "metadata": {},
   "outputs": [],
   "source": [
    "# YOUR CODE HERE"
   ]
  },
  {
   "cell_type": "markdown",
   "metadata": {},
   "source": [
    "**Task 5**. \n",
    "\n",
    "1. Generate a sequence of numbers from 1 to 1000\n",
    "2. Read more about if conditions. https://docs.python.org/3/tutorial/controlflow.html \n",
    "Look at our tasks for the practical class once again, we used ```if``` in list comprehensions and in a task with a feedback classification (week4). \n",
    "3. Create an empty list. For each number check the condition: if this number is divided by 3 (without the remainder), add a word 'Three' in a new list, if it is divided by 5, add a word 'Five', if it is divided by both 3 and 5 - add 'ThreeFive'. Else (if all these conditions are not satisfied), simply add this number to a new list.\n",
    "\n",
    "The beginning of this sequence should be: [1, 2, 'Three', 4, 'Five', 'Three', 7, 8, 'Three', 'Five', 11, 'Three', 13, 14, 'ThreeFive', ...]"
   ]
  },
  {
   "cell_type": "code",
   "execution_count": null,
   "metadata": {},
   "outputs": [],
   "source": [
    "# YOUR CODE HERE"
   ]
  },
  {
   "cell_type": "code",
   "execution_count": null,
   "metadata": {},
   "outputs": [],
   "source": []
  }
 ],
 "metadata": {
  "kernelspec": {
   "display_name": "Python 3",
   "language": "python",
   "name": "python3"
  },
  "language_info": {
   "codemirror_mode": {
    "name": "ipython",
    "version": 3
   },
   "file_extension": ".py",
   "mimetype": "text/x-python",
   "name": "python",
   "nbconvert_exporter": "python",
   "pygments_lexer": "ipython3",
   "version": "3.8.5"
  }
 },
 "nbformat": 4,
 "nbformat_minor": 2
}
